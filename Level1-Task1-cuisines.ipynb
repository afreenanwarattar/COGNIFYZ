{
 "cells": [
  {
   "cell_type": "markdown",
   "id": "fd31d263",
   "metadata": {},
   "source": [
    "#Importing Libraries"
   ]
  },
  {
   "cell_type": "code",
   "execution_count": 1,
   "id": "2219a0cd",
   "metadata": {},
   "outputs": [],
   "source": [
    "import numpy as np\n",
    "import pandas as pd\n",
    "import matplotlib.pyplot as plt\n",
    "import seaborn as sns\n",
    "plt.style.use('ggplot')"
   ]
  },
  {
   "cell_type": "code",
   "execution_count": 17,
   "id": "f4962d02",
   "metadata": {},
   "outputs": [],
   "source": [
    "df = pd.read_csv(r\"C:\\Users\\HP\\Downloads\\Dataset .csv\")\n",
    "\n"
   ]
  },
  {
   "cell_type": "code",
   "execution_count": 18,
   "id": "81724709",
   "metadata": {},
   "outputs": [
    {
     "data": {
      "text/html": [
       "<div>\n",
       "<style scoped>\n",
       "    .dataframe tbody tr th:only-of-type {\n",
       "        vertical-align: middle;\n",
       "    }\n",
       "\n",
       "    .dataframe tbody tr th {\n",
       "        vertical-align: top;\n",
       "    }\n",
       "\n",
       "    .dataframe thead th {\n",
       "        text-align: right;\n",
       "    }\n",
       "</style>\n",
       "<table border=\"1\" class=\"dataframe\">\n",
       "  <thead>\n",
       "    <tr style=\"text-align: right;\">\n",
       "      <th></th>\n",
       "      <th>Restaurant ID</th>\n",
       "      <th>Restaurant Name</th>\n",
       "      <th>Country Code</th>\n",
       "      <th>City</th>\n",
       "      <th>Address</th>\n",
       "      <th>Locality</th>\n",
       "      <th>Locality Verbose</th>\n",
       "      <th>Longitude</th>\n",
       "      <th>Latitude</th>\n",
       "      <th>Cuisines</th>\n",
       "      <th>...</th>\n",
       "      <th>Currency</th>\n",
       "      <th>Has Table booking</th>\n",
       "      <th>Has Online delivery</th>\n",
       "      <th>Is delivering now</th>\n",
       "      <th>Switch to order menu</th>\n",
       "      <th>Price range</th>\n",
       "      <th>Aggregate rating</th>\n",
       "      <th>Rating color</th>\n",
       "      <th>Rating text</th>\n",
       "      <th>Votes</th>\n",
       "    </tr>\n",
       "  </thead>\n",
       "  <tbody>\n",
       "    <tr>\n",
       "      <th>0</th>\n",
       "      <td>6317637</td>\n",
       "      <td>Le Petit Souffle</td>\n",
       "      <td>162</td>\n",
       "      <td>Makati City</td>\n",
       "      <td>Third Floor, Century City Mall, Kalayaan Avenu...</td>\n",
       "      <td>Century City Mall, Poblacion, Makati City</td>\n",
       "      <td>Century City Mall, Poblacion, Makati City, Mak...</td>\n",
       "      <td>121.027535</td>\n",
       "      <td>14.565443</td>\n",
       "      <td>French, Japanese, Desserts</td>\n",
       "      <td>...</td>\n",
       "      <td>Botswana Pula(P)</td>\n",
       "      <td>Yes</td>\n",
       "      <td>No</td>\n",
       "      <td>No</td>\n",
       "      <td>No</td>\n",
       "      <td>3</td>\n",
       "      <td>4.8</td>\n",
       "      <td>Dark Green</td>\n",
       "      <td>Excellent</td>\n",
       "      <td>314</td>\n",
       "    </tr>\n",
       "    <tr>\n",
       "      <th>1</th>\n",
       "      <td>6304287</td>\n",
       "      <td>Izakaya Kikufuji</td>\n",
       "      <td>162</td>\n",
       "      <td>Makati City</td>\n",
       "      <td>Little Tokyo, 2277 Chino Roces Avenue, Legaspi...</td>\n",
       "      <td>Little Tokyo, Legaspi Village, Makati City</td>\n",
       "      <td>Little Tokyo, Legaspi Village, Makati City, Ma...</td>\n",
       "      <td>121.014101</td>\n",
       "      <td>14.553708</td>\n",
       "      <td>Japanese</td>\n",
       "      <td>...</td>\n",
       "      <td>Botswana Pula(P)</td>\n",
       "      <td>Yes</td>\n",
       "      <td>No</td>\n",
       "      <td>No</td>\n",
       "      <td>No</td>\n",
       "      <td>3</td>\n",
       "      <td>4.5</td>\n",
       "      <td>Dark Green</td>\n",
       "      <td>Excellent</td>\n",
       "      <td>591</td>\n",
       "    </tr>\n",
       "    <tr>\n",
       "      <th>2</th>\n",
       "      <td>6300002</td>\n",
       "      <td>Heat - Edsa Shangri-La</td>\n",
       "      <td>162</td>\n",
       "      <td>Mandaluyong City</td>\n",
       "      <td>Edsa Shangri-La, 1 Garden Way, Ortigas, Mandal...</td>\n",
       "      <td>Edsa Shangri-La, Ortigas, Mandaluyong City</td>\n",
       "      <td>Edsa Shangri-La, Ortigas, Mandaluyong City, Ma...</td>\n",
       "      <td>121.056831</td>\n",
       "      <td>14.581404</td>\n",
       "      <td>Seafood, Asian, Filipino, Indian</td>\n",
       "      <td>...</td>\n",
       "      <td>Botswana Pula(P)</td>\n",
       "      <td>Yes</td>\n",
       "      <td>No</td>\n",
       "      <td>No</td>\n",
       "      <td>No</td>\n",
       "      <td>4</td>\n",
       "      <td>4.4</td>\n",
       "      <td>Green</td>\n",
       "      <td>Very Good</td>\n",
       "      <td>270</td>\n",
       "    </tr>\n",
       "    <tr>\n",
       "      <th>3</th>\n",
       "      <td>6318506</td>\n",
       "      <td>Ooma</td>\n",
       "      <td>162</td>\n",
       "      <td>Mandaluyong City</td>\n",
       "      <td>Third Floor, Mega Fashion Hall, SM Megamall, O...</td>\n",
       "      <td>SM Megamall, Ortigas, Mandaluyong City</td>\n",
       "      <td>SM Megamall, Ortigas, Mandaluyong City, Mandal...</td>\n",
       "      <td>121.056475</td>\n",
       "      <td>14.585318</td>\n",
       "      <td>Japanese, Sushi</td>\n",
       "      <td>...</td>\n",
       "      <td>Botswana Pula(P)</td>\n",
       "      <td>No</td>\n",
       "      <td>No</td>\n",
       "      <td>No</td>\n",
       "      <td>No</td>\n",
       "      <td>4</td>\n",
       "      <td>4.9</td>\n",
       "      <td>Dark Green</td>\n",
       "      <td>Excellent</td>\n",
       "      <td>365</td>\n",
       "    </tr>\n",
       "    <tr>\n",
       "      <th>4</th>\n",
       "      <td>6314302</td>\n",
       "      <td>Sambo Kojin</td>\n",
       "      <td>162</td>\n",
       "      <td>Mandaluyong City</td>\n",
       "      <td>Third Floor, Mega Atrium, SM Megamall, Ortigas...</td>\n",
       "      <td>SM Megamall, Ortigas, Mandaluyong City</td>\n",
       "      <td>SM Megamall, Ortigas, Mandaluyong City, Mandal...</td>\n",
       "      <td>121.057508</td>\n",
       "      <td>14.584450</td>\n",
       "      <td>Japanese, Korean</td>\n",
       "      <td>...</td>\n",
       "      <td>Botswana Pula(P)</td>\n",
       "      <td>Yes</td>\n",
       "      <td>No</td>\n",
       "      <td>No</td>\n",
       "      <td>No</td>\n",
       "      <td>4</td>\n",
       "      <td>4.8</td>\n",
       "      <td>Dark Green</td>\n",
       "      <td>Excellent</td>\n",
       "      <td>229</td>\n",
       "    </tr>\n",
       "  </tbody>\n",
       "</table>\n",
       "<p>5 rows × 21 columns</p>\n",
       "</div>"
      ],
      "text/plain": [
       "   Restaurant ID         Restaurant Name  Country Code              City  \\\n",
       "0        6317637        Le Petit Souffle           162       Makati City   \n",
       "1        6304287        Izakaya Kikufuji           162       Makati City   \n",
       "2        6300002  Heat - Edsa Shangri-La           162  Mandaluyong City   \n",
       "3        6318506                    Ooma           162  Mandaluyong City   \n",
       "4        6314302             Sambo Kojin           162  Mandaluyong City   \n",
       "\n",
       "                                             Address  \\\n",
       "0  Third Floor, Century City Mall, Kalayaan Avenu...   \n",
       "1  Little Tokyo, 2277 Chino Roces Avenue, Legaspi...   \n",
       "2  Edsa Shangri-La, 1 Garden Way, Ortigas, Mandal...   \n",
       "3  Third Floor, Mega Fashion Hall, SM Megamall, O...   \n",
       "4  Third Floor, Mega Atrium, SM Megamall, Ortigas...   \n",
       "\n",
       "                                     Locality  \\\n",
       "0   Century City Mall, Poblacion, Makati City   \n",
       "1  Little Tokyo, Legaspi Village, Makati City   \n",
       "2  Edsa Shangri-La, Ortigas, Mandaluyong City   \n",
       "3      SM Megamall, Ortigas, Mandaluyong City   \n",
       "4      SM Megamall, Ortigas, Mandaluyong City   \n",
       "\n",
       "                                    Locality Verbose   Longitude   Latitude  \\\n",
       "0  Century City Mall, Poblacion, Makati City, Mak...  121.027535  14.565443   \n",
       "1  Little Tokyo, Legaspi Village, Makati City, Ma...  121.014101  14.553708   \n",
       "2  Edsa Shangri-La, Ortigas, Mandaluyong City, Ma...  121.056831  14.581404   \n",
       "3  SM Megamall, Ortigas, Mandaluyong City, Mandal...  121.056475  14.585318   \n",
       "4  SM Megamall, Ortigas, Mandaluyong City, Mandal...  121.057508  14.584450   \n",
       "\n",
       "                           Cuisines  ...          Currency Has Table booking  \\\n",
       "0        French, Japanese, Desserts  ...  Botswana Pula(P)               Yes   \n",
       "1                          Japanese  ...  Botswana Pula(P)               Yes   \n",
       "2  Seafood, Asian, Filipino, Indian  ...  Botswana Pula(P)               Yes   \n",
       "3                   Japanese, Sushi  ...  Botswana Pula(P)                No   \n",
       "4                  Japanese, Korean  ...  Botswana Pula(P)               Yes   \n",
       "\n",
       "  Has Online delivery Is delivering now Switch to order menu Price range  \\\n",
       "0                  No                No                   No           3   \n",
       "1                  No                No                   No           3   \n",
       "2                  No                No                   No           4   \n",
       "3                  No                No                   No           4   \n",
       "4                  No                No                   No           4   \n",
       "\n",
       "   Aggregate rating  Rating color Rating text Votes  \n",
       "0               4.8    Dark Green   Excellent   314  \n",
       "1               4.5    Dark Green   Excellent   591  \n",
       "2               4.4         Green   Very Good   270  \n",
       "3               4.9    Dark Green   Excellent   365  \n",
       "4               4.8    Dark Green   Excellent   229  \n",
       "\n",
       "[5 rows x 21 columns]"
      ]
     },
     "execution_count": 18,
     "metadata": {},
     "output_type": "execute_result"
    }
   ],
   "source": [
    "df.head()"
   ]
  },
  {
   "cell_type": "markdown",
   "id": "dff93a4f",
   "metadata": {},
   "source": [
    "LEVEL 1\n",
    "TASK1-Q1]To Determine Top Three Most Common Cuisines."
   ]
  },
  {
   "cell_type": "code",
   "execution_count": 47,
   "id": "7348e581",
   "metadata": {},
   "outputs": [
    {
     "name": "stderr",
     "output_type": "stream",
     "text": [
      "C:\\Users\\HP\\AppData\\Local\\Temp\\ipykernel_14312\\1461974870.py:20: FutureWarning: \n",
      "\n",
      "Passing `palette` without assigning `hue` is deprecated and will be removed in v0.14.0. Assign the `x` variable to `hue` and set `legend=False` for the same effect.\n",
      "\n",
      "  barplot = sns.barplot(\n"
     ]
    },
    {
     "data": {
      "image/png": "[encoded data removed]",
      "text/plain": [
       "<Figure size 1000x600 with 1 Axes>"
      ]
     },
     "metadata": {},
     "output_type": "display_data"
    }
   ],
   "source": [
    "df = pd.read_csv(r\"C:\\Users\\HP\\Downloads\\Dataset .csv\")\n",
    "\n",
    "# Split multiple Dishes and count individual ones\n",
    "all_cuisines = df['Cuisines'].dropna().str.split(', ')\n",
    "flat_cuisines = [cuisine for sublist in all_cuisines for cuisine in sublist]\n",
    "\n",
    "import seaborn as sns\n",
    "cuisine_series = pd.Series(flat_cuisines)\n",
    "top_cuisines = cuisine_series.value_counts().head(3)\n",
    "\n",
    "#  For Calculateing percentages\n",
    "total_restaurants = len(df)\n",
    "percentages = (top_cuisines / total_restaurants) * 100\n",
    "\n",
    "# To Apply  Different styles\n",
    "sns.set_style(\"whitegrid\")\n",
    "plt.figure(figsize=(10, 6))\n",
    "\n",
    "# For Createing bar plot\n",
    "barplot = sns.barplot(\n",
    "    x=top_cuisines.index,\n",
    "    y=percentages.values,\n",
    "    palette='Set2',\n",
    "    edgecolor='black'\n",
    ")\n",
    "\n",
    "# Add labels and title\n",
    "plt.title(' Top 3 Cuisines by Restaurant Share', fontsize=16, weight='bold')\n",
    "plt.xlabel('Cuisine', fontsize=14)\n",
    "plt.ylabel('Percentage of Restaurants (%)', fontsize=14)\n",
    "\n",
    "# Annotate bars with percentage values\n",
    "for i, value in enumerate(percentages.values):\n",
    "    barplot.text(i, value + 0.5, f'{value:.1f}%', ha='center', fontsize=12, weight='bold')\n",
    "\n",
    "# Improve layout\n",
    "plt.xticks(fontsize=12)\n",
    "plt.yticks(fontsize=12)\n",
    "plt.ylim(0, max(percentages.values) + 10)\n",
    "plt.tight_layout()\n",
    "\n",
    "# Show the plot\n",
    "plt.show()"
   ]
  },
  {
   "cell_type": "markdown",
   "id": "f63800c6",
   "metadata": {},
   "source": [
    "To Calculate Percentage Of Restaurants That Serves Top Cuisines."
   ]
  },
  {
   "cell_type": "code",
   "execution_count": 5,
   "id": "29808c2f",
   "metadata": {},
   "outputs": [],
   "source": [
    "# Extract cuisine data and normalize it into a flat list\n",
    "cuisine_lists = df['Cuisines'].dropna().apply(lambda x: x.split(', '))\n",
    "individual_cuisines = [item for group in cuisine_lists for item in group]\n",
    "\n",
    "# Count the frequency of each cuisine\n",
    "cuisine_frequency = pd.Series(individual_cuisines).value_counts()"
   ]
  },
  {
   "cell_type": "code",
   "execution_count": 8,
   "id": "b6edda2c",
   "metadata": {},
   "outputs": [
    {
     "name": "stdout",
     "output_type": "stream",
     "text": [
      "9551\n",
      "Market share of Top 5 cuisines are: North Indian    41.461627\n",
      "Chinese         28.635745\n",
      "Fast Food       20.793634\n",
      "Mughlai         10.417757\n",
      "Italian          7.999162\n",
      "Name: count, dtype: float64\n"
     ]
    }
   ],
   "source": [
    "total_restaurant = len(df)\n",
    "print(total_restaurant)\n",
    "top_cuisine10 = cuisines_count.head()\n",
    "percentages=(top_cuisine10 / total_restaurant) * 100\n",
    "print(\"Market share of Top 5 cuisines are:\",percentages)\n",
    "\n"
   ]
  },
  {
   "cell_type": "code",
   "execution_count": 12,
   "id": "0f13fb56",
   "metadata": {},
   "outputs": [
    {
     "data": {
      "text/plain": [
       "<Figure size 1200x600 with 0 Axes>"
      ]
     },
     "execution_count": 12,
     "metadata": {},
     "output_type": "execute_result"
    },
    {
     "data": {
      "text/plain": [
       "<Figure size 1200x600 with 0 Axes>"
      ]
     },
     "metadata": {},
     "output_type": "display_data"
    }
   ],
   "source": [
    "colours = ['#ff9999', '#66b3ff', '#99ff99', '#ffcc99', '#c2c2f0']\n",
    "\n",
    "import matplotlib.pyplot as plt\n",
    "plt.figure(figsize=(12, 6))\n"
   ]
  },
  {
   "cell_type": "code",
   "execution_count": 14,
   "id": "a2cee1ae",
   "metadata": {},
   "outputs": [
    {
     "data": {
      "image/png": "[encoded data removed]",
      "text/plain": [
       "<Figure size 640x480 with 1 Axes>"
      ]
     },
     "metadata": {},
     "output_type": "display_data"
    }
   ],
   "source": [
    "plt.bar(top_cuisine10.index, percentages.values, color=colours[:len(top_cuisine10)])\n",
    "plt.xlabel('Cuisines Name')\n",
    "plt.ylabel('Percentage')\n",
    "plt.title('5 Top Cuisines %')\n",
    "plt.show()"
   ]
  },
  {
   "cell_type": "markdown",
   "id": "4ce7147c",
   "metadata": {},
   "source": [
    "LEVEL 1\n",
    "TASK-2 -Identify the city with the highest number of restaurants in the dataset."
   ]
  },
  {
   "cell_type": "code",
   "execution_count": null,
   "id": "3af636b4",
   "metadata": {},
   "outputs": [
    {
     "name": "stdout",
     "output_type": "stream",
     "text": [
      "🏙️ City with the highest number of restaurants: New Delhi (5473 restaurants)\n"
     ]
    }
   ],
   "source": [
    "import pandas as pd\n",
    "\n",
    "# Load the dataset\n",
    "df = pd.read_csv(r\"C:\\Users\\HP\\Downloads\\Dataset .csv\")\n",
    "\n",
    "# Count restaurants by city\n",
    "city_counts = df['City'].value_counts()\n",
    "\n",
    "# Get the top city\n",
    "top_city = city_counts.idxmax()\n",
    "top_count = city_counts.max()\n",
    "\n",
    "# Display result\n",
    "print(f\"🏙️ City with the highest number of restaurants: {top_city} ({top_count} restaurants)\")"
   ]
  },
  {
   "cell_type": "markdown",
   "id": "64be1ee9",
   "metadata": {},
   "source": [
    "Calculate the average rating for restaurants in each city."
   ]
  },
  {
   "cell_type": "code",
   "execution_count": null,
   "id": "6ff86562",
   "metadata": {},
   "outputs": [
    {
     "name": "stdout",
     "output_type": "stream",
     "text": [
      "🌆 Mean Restaurant Ratings Across Cities:\n",
      "City\n",
      "Inner City          4.900000\n",
      "Quezon City         4.800000\n",
      "Makati City         4.650000\n",
      "Pasig City          4.633333\n",
      "Mandaluyong City    4.625000\n",
      "                      ...   \n",
      "New Delhi           2.438845\n",
      "Montville           2.400000\n",
      "Mc Millan           2.400000\n",
      "Noida               2.036204\n",
      "Faridabad           1.866932\n",
      "Name: Aggregate rating, Length: 141, dtype: float64\n"
     ]
    }
   ],
   "source": [
    "import pandas as pd\n",
    "\n",
    "# Load the restaurant dataset\n",
    "data = pd.read_csv(r\"C:\\Users\\HP\\Downloads\\Dataset .csv\")\n",
    "\n",
    "# Compute mean rating for each city\n",
    "city_avg_rating = data.groupby('City')['Aggregate rating'].mean().sort_values(ascending=False)\n",
    "\n",
    "# Output the results\n",
    "\n",
    "print(\"🌆 Mean Restaurant Ratings Across Cities:\")\n",
    "print(city_avg_rating)\n"
   ]
  },
  {
   "cell_type": "markdown",
   "id": "ce331b3d",
   "metadata": {},
   "source": [
    "Determine the city with the highest average rating."
   ]
  },
  {
   "cell_type": "code",
   "execution_count": 20,
   "id": "23f4b538",
   "metadata": {},
   "outputs": [
    {
     "name": "stdout",
     "output_type": "stream",
     "text": [
      "🌟 City with the highest average rating: Inner City (4.90)\n"
     ]
    }
   ],
   "source": [
    "import pandas as pd\n",
    "\n",
    "# Load the dataset\n",
    "data = pd.read_csv(r\"C:\\Users\\HP\\Downloads\\Dataset .csv\")\n",
    "\n",
    "# Calculate average rating for each city\n",
    "city_ratings = data.groupby('City')['Aggregate rating'].mean()\n",
    "\n",
    "# Identify the city with the highest average\n",
    "top_city = city_ratings.idxmax()\n",
    "top_rating = city_ratings.max()\n",
    "\n",
    "# Display result\n",
    "print(f\"🌟 City with the highest average rating: {top_city} ({top_rating:.2f})\")"
   ]
  },
  {
   "cell_type": "markdown",
   "id": "f7f1f808",
   "metadata": {},
   "source": [
    "LEVEL1 TASK-3-Create a histogram or bar chart to visualize the distribution of price ranges among the restaurants."
   ]
  },
  {
   "cell_type": "code",
   "execution_count": 3,
   "id": "f2805934",
   "metadata": {},
   "outputs": [],
   "source": [
    "import pandas as pd\n",
    "import matplotlib.pyplot as plt\n",
    "import seaborn as sns\n",
    "\n",
    "# Load the dataset\n",
    "df = pd.read_csv(r\"C:\\Users\\HP\\Downloads\\Dataset .csv\")\n"
   ]
  },
  {
   "cell_type": "code",
   "execution_count": 4,
   "id": "5ea8ea3e",
   "metadata": {},
   "outputs": [
    {
     "name": "stdout",
     "output_type": "stream",
     "text": [
      "Index(['Restaurant ID', 'Restaurant Name', 'Country Code', 'City', 'Address',\n",
      "       'Locality', 'Locality Verbose', 'Longitude', 'Latitude', 'Cuisines',\n",
      "       'Average Cost for two', 'Currency', 'Has Table booking',\n",
      "       'Has Online delivery', 'Is delivering now', 'Switch to order menu',\n",
      "       'Price range', 'Aggregate rating', 'Rating color', 'Rating text',\n",
      "       'Votes'],\n",
      "      dtype='object')\n"
     ]
    }
   ],
   "source": [
    "print(df.columns)"
   ]
  },
  {
   "cell_type": "code",
   "execution_count": 45,
   "id": "5723416d",
   "metadata": {},
   "outputs": [
    {
     "data": {
      "image/png": "[encoded data removed]",
      "text/plain": [
       "<Figure size 640x480 with 1 Axes>"
      ]
     },
     "metadata": {},
     "output_type": "display_data"
    }
   ],
   "source": [
    "df.hist(column=\"Price range\")\n",
    "plt.title(' Distribution of Price Ranges Among Restaurants', fontsize=14, weight='bold')\n",
    "plt.xlabel('Price Range', fontsize=12)\n",
    "plt.ylabel('Number of Restaurants', fontsize=12)\n",
    "plt.show()\n",
    "\n"
   ]
  },
  {
   "cell_type": "markdown",
   "id": "d6f1398e",
   "metadata": {},
   "source": [
    "Calculate the percentage of restaurants in each price range category."
   ]
  },
  {
   "cell_type": "code",
   "execution_count": null,
   "id": "5148ed5f",
   "metadata": {},
   "outputs": [
    {
     "name": "stdout",
     "output_type": "stream",
     "text": [
      "💰 Percentage of Restaurants by Price Range:\n",
      "Price Range 1: 46.53%\n",
      "Price Range 2: 32.59%\n",
      "Price Range 3: 14.74%\n",
      "Price Range 4: 6.14%\n"
     ]
    }
   ],
   "source": [
    "import pandas as pd\n",
    "\n",
    "# To Load dataset\n",
    "df = pd.read_csv(r\"C:\\Users\\HP\\Downloads\\Dataset .csv\")\n",
    "\n",
    "# Count restaurants in each price range\n",
    "price_counts = df['Price range'].value_counts().sort_index()\n",
    "\n",
    "# Calculate percentages\n",
    "total_restaurants = len(df)\n",
    "price_percentages = (price_counts / total_restaurants) * 100\n",
    "\n",
    "# Show results\n",
    "print(\"💰 Percentage of Restaurants by Price Range:\")\n",
    "for price, percent in price_percentages.items():\n",
    "    print(f\"Price Range {price}: {percent:.2f}%\")"
   ]
  },
  {
   "cell_type": "code",
   "execution_count": 13,
   "id": "6198c080",
   "metadata": {},
   "outputs": [
    {
     "data": {
      "image/png": "[encoded data removed]",
      "text/plain": [
       "<Figure size 600x600 with 1 Axes>"
      ]
     },
     "metadata": {},
     "output_type": "display_data"
    }
   ],
   "source": [
    "percentage = df['Price range'].value_counts(normalize=True) * 100\n",
    "plt.figure(figsize=(6, 6))\n",
    "# Plot pie chart\n",
    "plt.pie(\n",
    "    percentage,labels=percentage.index,autopct='%1.1f%%',colors=[\"skyblue\", \"silver\", \"pink\", \"grey\"],shadow=True)\n",
    "plt.title(\"Price Range Percentage\")\n",
    "plt.axis('equal')\n",
    "plt.show()"
   ]
  },
  {
   "cell_type": "markdown",
   "id": "d5bf19dc",
   "metadata": {},
   "source": [
    "LEVEL1 TASK-4-To Determine Percentage of restaurants that offer online delivery."
   ]
  },
  {
   "cell_type": "code",
   "execution_count": 15,
   "id": "4b70db9b",
   "metadata": {},
   "outputs": [],
   "source": [
    "import pandas as pd\n",
    "import numpy as np\n",
    "import matplotlib.pyplot as plt\n",
    "df = pd.read_csv(r\"C:\\Users\\HP\\Downloads\\Dataset .csv\")"
   ]
  },
  {
   "cell_type": "code",
   "execution_count": 22,
   "id": "8813f982",
   "metadata": {},
   "outputs": [
    {
     "name": "stdout",
     "output_type": "stream",
     "text": [
      "['Restaurant ID', 'Restaurant Name', 'Country Code', 'City', 'Address', 'Locality', 'Locality Verbose', 'Longitude', 'Latitude', 'Cuisines', 'Average Cost for two', 'Currency', 'Has Table booking', 'Has Online delivery', 'Is delivering now', 'Switch to order menu', 'Price range', 'Aggregate rating', 'Rating color', 'Rating text', 'Votes']\n"
     ]
    }
   ],
   "source": [
    "print(df.columns.tolist())"
   ]
  },
  {
   "cell_type": "code",
   "execution_count": 28,
   "id": "ce2b89cd",
   "metadata": {},
   "outputs": [
    {
     "name": "stdout",
     "output_type": "stream",
     "text": [
      "📦 Total Restaurants Offering Online Delivery: 2451\n"
     ]
    }
   ],
   "source": [
    "column_name = 'Has Online delivery'  \n",
    "Has_online_delivery = df[column_name].value_counts().get('Yes', 0)\n",
    "\n",
    "print(\"📦 Total Restaurants Offering Online Delivery:\", Has_online_delivery)"
   ]
  },
  {
   "cell_type": "code",
   "execution_count": 37,
   "id": "1493ea49",
   "metadata": {},
   "outputs": [
    {
     "name": "stdout",
     "output_type": "stream",
     "text": [
      "📱 Percentage of Restaurants Offering Online Delivery: 25.66%\n"
     ]
    }
   ],
   "source": [
    "total_restaurants = len(df)\n",
    "online_percentage = (Has_online_delivery / total_restaurants) * 100\n",
    "print(f\"📱 Percentage of Restaurants Offering Online Delivery: {online_percentage:.2f}%\")"
   ]
  },
  {
   "cell_type": "markdown",
   "id": "df3704c5",
   "metadata": {},
   "source": [
    "Compare the average ratings of restaurants with and without online delivery."
   ]
  },
  {
   "cell_type": "code",
   "execution_count": 41,
   "id": "9a994e38",
   "metadata": {},
   "outputs": [
    {
     "name": "stdout",
     "output_type": "stream",
     "text": [
      "⭐ Average Rating (Online Delivery): 3.25\n",
      "⭐  Average Rating (No Online Delivery): 2.47\n"
     ]
    }
   ],
   "source": [
    "import pandas as pd\n",
    "\n",
    "# Load dataset\n",
    "df = pd.read_csv(r\"C:\\Users\\HP\\Downloads\\Dataset .csv\")\n",
    "\n",
    "delivery_column = 'Has Online delivery'\n",
    "rating_column = 'Aggregate rating'\n",
    "\n",
    "# calculate averages\n",
    "with_delivery = df[df[delivery_column] == 'Yes'][rating_column].mean()\n",
    "without_delivery = df[df[delivery_column] == 'No'][rating_column].mean()\n",
    "\n",
    "# Show results\n",
    "print(f\"⭐ Average Rating (Online Delivery): {with_delivery:.2f}\")\n",
    "print(f\"⭐  Average Rating (No Online Delivery): {without_delivery:.2f}\")"
   ]
  },
  {
   "cell_type": "code",
   "execution_count": 43,
   "id": "44b1aace",
   "metadata": {},
   "outputs": [
    {
     "data": {
      "image/png": "[encoded data removed]",
      "text/plain": [
       "<Figure size 640x480 with 1 Axes>"
      ]
     },
     "metadata": {},
     "output_type": "display_data"
    }
   ],
   "source": [
    "import matplotlib.pyplot as plt\n",
    "\n",
    "labels = ['With Delivery', 'Without Delivery']\n",
    "ratings = [with_delivery, without_delivery]\n",
    "colors = ['lightgreen', 'lightcoral']\n",
    "\n",
    "plt.bar(labels, ratings, color=colors)\n",
    "plt.ylabel('Average Rating')\n",
    "plt.title('Average Ratings * Online Delivery')\n",
    "plt.ylim(0, 5)  \n",
    "plt.show()"
   ]
  },
  {
   "cell_type": "code",
   "execution_count": null,
   "id": "2fa3c5a3",
   "metadata": {},
   "outputs": [],
   "source": []
  }
 ],
 "metadata": {
  "kernelspec": {
   "display_name": "Python 3",
   "language": "python",
   "name": "python3"
  },
  "language_info": {
   "codemirror_mode": {
    "name": "ipython",
    "version": 3
   },
   "file_extension": ".py",
   "mimetype": "text/x-python",
   "name": "python",
   "nbconvert_exporter": "python",
   "pygments_lexer": "ipython3",
   "version": "3.12.4"
  }
 },
 "nbformat": 4,
 "nbformat_minor": 5
}
